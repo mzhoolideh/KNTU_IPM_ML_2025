{
 "cells": [
  {
   "cell_type": "markdown",
   "id": "ea7e9352-8709-4ad7-a8f8-eeb09aaf2107",
   "metadata": {},
   "source": [
    "## KNTU_IPM Quiz\n",
    "\n",
    "A company tracks login activity using features such as the number of logins and the duration of each session. One employee's login behavior suddenly \n",
    "\n",
    "\n",
    "spikes compared to their historical pattern. What approach can help identify whether this activity is an anomaly?\"\n",
    "\n",
    " \n",
    " Use Gaussian-based anomaly detection on the login data to flag unusual behavior.\n",
    "\n"
   ]
  },
  {
   "cell_type": "code",
   "execution_count": 1,
   "id": "069c8203-6de2-467b-9067-3951b7cf7fb8",
   "metadata": {},
   "outputs": [],
   "source": [
    "import numpy as np\n",
    "import pandas as pd\n",
    "import matplotlib.pyplot as plt"
   ]
  },
  {
   "cell_type": "code",
   "execution_count": 2,
   "id": "c4521cf5-1dbe-4790-8b44-46cdf7660d15",
   "metadata": {},
   "outputs": [],
   "source": [
    "def multivariate_gaussian(X, mu, var):\n",
    "    \"\"\"\n",
    "    Computes the probability \n",
    "    density function of the examples X under the multivariate gaussian \n",
    "    distribution with parameters mu and var. If var is a matrix, it is\n",
    "    treated as the covariance matrix. If var is a vector, it is treated\n",
    "    as the var values of the variances in each dimension (a diagonal\n",
    "    covariance matrix\n",
    "    \"\"\"\n",
    "    \n",
    "    k = len(mu)\n",
    "    \n",
    "    if var.ndim == 1:\n",
    "        var = np.diag(var)\n",
    "        \n",
    "    X = X - mu\n",
    "    p = (2* np.pi)**(-k/2) * np.linalg.det(var)**(-0.5) * \\\n",
    "        np.exp(-0.5 * np.sum(np.matmul(X, np.linalg.pinv(var)) * X, axis=1))\n",
    "    \n",
    "    return p"
   ]
  },
  {
   "cell_type": "code",
   "execution_count": 5,
   "id": "fce78fab-e18e-4c52-a192-4dfe19f28717",
   "metadata": {},
   "outputs": [],
   "source": [
    "df = pd.read_csv(\"login_data.csv\")"
   ]
  },
  {
   "cell_type": "code",
   "execution_count": 7,
   "id": "8b5fccb9-1ab9-4f65-ba53-558b3e75272f",
   "metadata": {},
   "outputs": [],
   "source": [
    "# Separate features and labels\n",
    "# Visualize the Login Data\n",
    "# def estimate_gaussian(X):\n",
    "# def select_threshold(y_val, p_val): \n",
    "# Estimate Gaussian Parameters\n",
    "# Compute Probabilities\n",
    "# Find Best Threshold Using Validation Set\n",
    "# Visualize Detected Anomalies"
   ]
  },
  {
   "cell_type": "code",
   "execution_count": null,
   "id": "58b8851c-f042-4ac4-81c7-19ccc65f858e",
   "metadata": {},
   "outputs": [],
   "source": []
  }
 ],
 "metadata": {
  "kernelspec": {
   "display_name": "Python [conda env:base] *",
   "language": "python",
   "name": "conda-base-py"
  },
  "language_info": {
   "codemirror_mode": {
    "name": "ipython",
    "version": 3
   },
   "file_extension": ".py",
   "mimetype": "text/x-python",
   "name": "python",
   "nbconvert_exporter": "python",
   "pygments_lexer": "ipython3",
   "version": "3.12.7"
  }
 },
 "nbformat": 4,
 "nbformat_minor": 5
}
